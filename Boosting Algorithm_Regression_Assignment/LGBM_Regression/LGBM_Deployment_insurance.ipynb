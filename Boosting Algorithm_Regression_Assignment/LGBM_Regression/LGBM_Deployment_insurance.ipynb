{
 "cells": [
  {
   "cell_type": "code",
   "execution_count": 4,
   "id": "545c6bfb-8a43-486f-94c4-ecfe2c5ac728",
   "metadata": {},
   "outputs": [],
   "source": [
    "#import pickle to load the saved model\n",
    "import pickle"
   ]
  },
  {
   "cell_type": "code",
   "execution_count": 6,
   "id": "f55c81c5-d022-47a8-b8de-0a8861f4564a",
   "metadata": {},
   "outputs": [
    {
     "name": "stdout",
     "output_type": "stream",
     "text": [
      "[LightGBM] [Warning] boosting is set=gbdt, boosting_type=gbdt will be ignored. Current value: boosting=gbdt\n",
      "[LightGBM] [Warning] bagging_fraction is set=0.9, subsample=1.0 will be ignored. Current value: bagging_fraction=0.9\n",
      "[LightGBM] [Warning] bagging_freq is set=1, subsample_freq=0 will be ignored. Current value: bagging_freq=1\n"
     ]
    }
   ],
   "source": [
    "# loading the saved model using load function\n",
    "# predict the output using predict function\n",
    "loaded_model=pickle.load(open(\"lgbm.final.sav\",'rb'))\n",
    "result=loaded_model.predict([[40,47,2,0,1]])"
   ]
  },
  {
   "cell_type": "code",
   "execution_count": 7,
   "id": "a2a5f1a5-3888-4b01-aa94-5e28014b068c",
   "metadata": {},
   "outputs": [
    {
     "data": {
      "text/plain": [
       "array([43443.49919785])"
      ]
     },
     "execution_count": 7,
     "metadata": {},
     "output_type": "execute_result"
    }
   ],
   "source": [
    "result"
   ]
  },
  {
   "cell_type": "code",
   "execution_count": null,
   "id": "eb7b2813-1558-4ff6-aebb-d59015aba209",
   "metadata": {},
   "outputs": [],
   "source": []
  }
 ],
 "metadata": {
  "kernelspec": {
   "display_name": "Python [conda env:base] *",
   "language": "python",
   "name": "conda-base-py"
  },
  "language_info": {
   "codemirror_mode": {
    "name": "ipython",
    "version": 3
   },
   "file_extension": ".py",
   "mimetype": "text/x-python",
   "name": "python",
   "nbconvert_exporter": "python",
   "pygments_lexer": "ipython3",
   "version": "3.12.7"
  }
 },
 "nbformat": 4,
 "nbformat_minor": 5
}
