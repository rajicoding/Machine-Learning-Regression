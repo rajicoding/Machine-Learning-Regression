{
 "cells": [
  {
   "cell_type": "code",
   "execution_count": 2,
   "id": "3b50f47d-f633-480f-9415-572ac83403fe",
   "metadata": {},
   "outputs": [],
   "source": [
    "import pickle\n",
    "file_name=\"Simple_Linear_height_weight.sav\""
   ]
  },
  {
   "cell_type": "code",
   "execution_count": 28,
   "id": "40590605-f3d1-417e-9a6b-fe448ebfb748",
   "metadata": {},
   "outputs": [
    {
     "name": "stderr",
     "output_type": "stream",
     "text": [
      "C:\\Users\\Inst_\\anaconda3\\Lib\\site-packages\\sklearn\\base.py:493: UserWarning: X does not have valid feature names, but LinearRegression was fitted with feature names\n",
      "  warnings.warn(\n"
     ]
    }
   ],
   "source": [
    "loaded_model=pickle.load(open(\"Simple_Linear_height_weight.sav\",\"rb\"))\n",
    "result=loaded_model.predict([[195.5]])"
   ]
  },
  {
   "cell_type": "code",
   "execution_count": 30,
   "id": "c594c382-b886-4ab2-976b-641627f12f23",
   "metadata": {},
   "outputs": [
    {
     "data": {
      "text/plain": [
       "array([[92.06675928]])"
      ]
     },
     "execution_count": 30,
     "metadata": {},
     "output_type": "execute_result"
    }
   ],
   "source": [
    "result"
   ]
  },
  {
   "cell_type": "code",
   "execution_count": null,
   "id": "e2473957-dd32-4a0d-8ac3-cbf7e496eb07",
   "metadata": {},
   "outputs": [],
   "source": []
  }
 ],
 "metadata": {
  "kernelspec": {
   "display_name": "Python [conda env:base] *",
   "language": "python",
   "name": "conda-base-py"
  },
  "language_info": {
   "codemirror_mode": {
    "name": "ipython",
    "version": 3
   },
   "file_extension": ".py",
   "mimetype": "text/x-python",
   "name": "python",
   "nbconvert_exporter": "python",
   "pygments_lexer": "ipython3",
   "version": "3.12.7"
  }
 },
 "nbformat": 4,
 "nbformat_minor": 5
}
